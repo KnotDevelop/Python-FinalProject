{
 "cells": [
  {
   "cell_type": "markdown",
   "id": "60329bea-0749-4feb-92c8-32bd487a2ba8",
   "metadata": {},
   "source": [
    "- เพิ่มงานใหม่: ผู้ใช้สามารถเพิ่มงานโดยมีชื่อ, คำอธิบาย, และวันที่ครบกำหนด โดยแต่ละงานควรมีรหัสเฉพาะ (ID) ของตัวเอง\n",
    "- ดูงานทั้งหมด: แสดงงานทั้งหมดในรูปแบบที่มีโครงสร้าง โดยแยกงานออกเป็นประเภท \"รอดำเนินการ\" และ \"เสร็จสิ้น\"\n",
    "- ทำเครื่องหมายว่างานเสร็จสิ้น: มีฟังก์ชันให้ผู้ใช้ทำเครื่องหมายว่างานเสร็จสิ้น โดยอ้างอิงจากรหัสเฉพาะ (ID) ของงาน\n",
    "- ลบงาน: ผู้ใช้สามารถลบงานโดยใช้รหัสเฉพาะ (ID)\n",
    "- บันทึกและโหลดงาน: งานทั้งหมดควรถูกบันทึกลงในไฟล์ JSON และโหลดกลับเมื่อโปรแกรมเริ่มต้น\n",
    "- ค้นหางาน: เพิ่มฟังก์ชันสำหรับการค้นหางานโดยใช้คำสำคัญหรือวันที่ครบกำหนด"
   ]
  },
  {
   "cell_type": "code",
   "execution_count": null,
   "id": "37c18cf6-7236-43ff-a9a7-4e97e3c8070e",
   "metadata": {},
   "outputs": [],
   "source": []
  }
 ],
 "metadata": {
  "kernelspec": {
   "display_name": "Python 3 (ipykernel)",
   "language": "python",
   "name": "python3"
  },
  "language_info": {
   "codemirror_mode": {
    "name": "ipython",
    "version": 3
   },
   "file_extension": ".py",
   "mimetype": "text/x-python",
   "name": "python",
   "nbconvert_exporter": "python",
   "pygments_lexer": "ipython3",
   "version": "3.12.7"
  }
 },
 "nbformat": 4,
 "nbformat_minor": 5
}
